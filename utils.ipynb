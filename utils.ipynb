{
 "cells": [
  {
   "cell_type": "code",
   "execution_count": null,
   "id": "3dd98a25-5620-4293-aeb9-8bedc5151afb",
   "metadata": {},
   "outputs": [],
   "source": [
    "import torch\n",
    "import os\n",
    "import matplotlib.pyplot as plt\n",
    "import numpy as np\n",
    "import torchvision.utils as vutils"
   ]
  },
  {
   "cell_type": "code",
   "execution_count": null,
   "id": "7e27db66-e3be-4adc-8c2e-2903207fef04",
   "metadata": {},
   "outputs": [],
   "source": [
    "def loss_plot(G_losses, D_losses, out):\n",
    "\n",
    "    plt.figure(figsize=(10, 5))\n",
    "    plt.title(\"Generator and Discriminator Loss During Training\")\n",
    "    plt.plot(G_losses, label=\"G\")\n",
    "    plt.plot(D_losses, label=\"D\")\n",
    "    plt.xlabel(\"Iterations\")\n",
    "    plt.ylabel(\"Loss\")\n",
    "    plt.legend()\n",
    "    plt.savefig(os.path.join(out,'loss_plot.png'))"
   ]
  },
  {
   "cell_type": "code",
   "execution_count": null,
   "id": "8978e960-16ac-48bc-b836-7ebf0f05a65f",
   "metadata": {},
   "outputs": [],
   "source": [
    "def image_grid(dataloader, img_list, device, out):\n",
    "\n",
    "    real_batch = next(iter(dataloader))\n",
    "\n",
    "    plt.figure(figsize=(15, 15))\n",
    "    plt.subplot(1, 2, 1)\n",
    "    plt.axis(\"off\")\n",
    "    plt.title(\"Real Images\")\n",
    "    plt.imshow(np.transpose(vutils.make_grid(real_batch[0].to(device)[\n",
    "               :64], padding=5, normalize=True).cpu(), (1, 2, 0)))\n",
    "\n",
    "    plt.subplot(1, 2, 2)\n",
    "    plt.axis(\"off\")\n",
    "    plt.title(\"Fake Images\")\n",
    "    plt.imshow(np.transpose(img_list[-1], (1, 2, 0)))\n",
    "    plt.savefig(os.path.join(out, 'real_fake_grid.png'))"
   ]
  }
 ],
 "metadata": {
  "kernelspec": {
   "display_name": "dermogan",
   "language": "python",
   "name": "dermogan"
  },
  "language_info": {
   "codemirror_mode": {
    "name": "ipython",
    "version": 3
   },
   "file_extension": ".py",
   "mimetype": "text/x-python",
   "name": "python",
   "nbconvert_exporter": "python",
   "pygments_lexer": "ipython3",
   "version": "3.9.18"
  }
 },
 "nbformat": 4,
 "nbformat_minor": 5
}
