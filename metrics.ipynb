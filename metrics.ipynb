{
 "cells": [
  {
   "cell_type": "code",
   "execution_count": null,
   "id": "7dccd7b9-dc34-4dc9-b255-6c8f6d02b5de",
   "metadata": {
    "tags": []
   },
   "outputs": [],
   "source": [
    "import numpy as np\n",
    "import torch\n",
    "import os\n",
    "from piqa import SSIM, HaarPSI, PSNR, MS_SSIM, MS_GMSD, MDSI\n",
    "\n",
    "# Structural Similarity (SSIM)\n",
    "# Haar Perceptural Similarity Index (HaarPSI)\n",
    "# Peak Signal-to-Noise Ratio (PSNR)\n",
    "# Multi-Scale Structural Similarity (MS SSIM)\n",
    "# Multi-Scale Gradient Magnitude Similarity Deviation (MS GMSD)\n",
    "# Mean Deviation Similarity Index (MDSI)"
   ]
  },
  {
   "cell_type": "code",
   "execution_count": null,
   "id": "ab48e6f7-2289-4148-924b-a278b2ba389d",
   "metadata": {},
   "outputs": [],
   "source": [
    "def compute_metrics(real, fakes, size, out):\n",
    "\n",
    "    p, s, h, ms, md = [], [], [], [], []\n",
    "\n",
    "    ssim = SSIM().cpu()\n",
    "    psnr = PSNR()\n",
    "    haar = HaarPSI()\n",
    "    msssim = MS_SSIM()\n",
    "    ms_gmsd = MS_GMSD()\n",
    "    mdsi = MDSI()\n",
    "\n",
    "    if len(real[0]) > len(fakes[-1]):\n",
    "        thres = len(fakes[-1])\n",
    "\n",
    "    elif len(real[0]) < len(fakes[-1]):\n",
    "        thres = len(real[0])\n",
    "\n",
    "    else:\n",
    "        thres = len(fakes[-1])\n",
    "\n",
    "    for i in range(0, thres-1):\n",
    "        f = torch.reshape(fakes[-1][i], (-1, 3, size, size))\n",
    "        r = torch.reshape(real[0][i], (-1, 3, size, size))\n",
    "        r_norm = (r - r.min()) / (r.max() - r.min())\n",
    "        f_norm = (f - f.min()) / (f.max() - f.min())\n",
    "\n",
    "        p.append(psnr(r_norm, f_norm))\n",
    "        s.append(ssim(r_norm, f_norm))\n",
    "        h.append(haar(r_norm, f_norm))\n",
    "        ms.append(ms_gmsd(r_norm, f_norm))\n",
    "        md.append(mdsi(r_norm, f_norm))\n",
    "        \n",
    "    output = 'PSNR: {}, SSIM: {}, HAAR: {}, MSGMSD: {}, MDSI: {}'.format(\n",
    "        sum(p)/(len(p)), sum(s)/(len(s)), sum(h)/(len(h)), sum(ms)/(len(ms)), sum(md)/(len(md)))\n",
    "        \n",
    "    print(output)\n",
    "        \n",
    "    f = open(os.path.join(out, 'metrics_report.out'), 'a')\n",
    "    f.write(output + \"\\n\")\n",
    "    f.close()"
   ]
  }
 ],
 "metadata": {
  "kernelspec": {
   "display_name": "dermogan",
   "language": "python",
   "name": "dermogan"
  },
  "language_info": {
   "codemirror_mode": {
    "name": "ipython",
    "version": 3
   },
   "file_extension": ".py",
   "mimetype": "text/x-python",
   "name": "python",
   "nbconvert_exporter": "python",
   "pygments_lexer": "ipython3",
   "version": "3.9.18"
  }
 },
 "nbformat": 4,
 "nbformat_minor": 5
}
