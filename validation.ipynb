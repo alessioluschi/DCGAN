{
 "cells": [
  {
   "cell_type": "code",
   "execution_count": null,
   "id": "b95e7864-5006-41b7-9873-f81381d74b44",
   "metadata": {},
   "outputs": [],
   "source": [
    "import os.path\n",
    "import numpy as np\n",
    "import matplotlib.pyplot as plt\n",
    "import torch\n",
    "from typing import Tuple\n",
    "\n",
    "from ipynb.fs.full.definitions import latent_vector, OUTPUT_PATH, DEVICE"
   ]
  },
  {
   "cell_type": "code",
   "execution_count": null,
   "id": "12291601-9dca-4af1-9e91-8b3f69c3e113",
   "metadata": {},
   "outputs": [],
   "source": [
    "def plot_real_images(dataloader, _show: bool = False) -> None:\n",
    "    figure = plt.figure(figsize=(8, 8))\n",
    "    cols, rows = 3, 3\n",
    "    _dataset = dataloader.dataset\n",
    "\n",
    "    for i in range(1, cols * rows + 1):\n",
    "        sample_idx = torch.randint(len(_dataset), size=(1,)).item()\n",
    "        img, label = _dataset[sample_idx]\n",
    "        \n",
    "        figure.add_subplot(rows, cols, i)\n",
    "        plt.title(\"Malignent Melanoma\")\n",
    "        plt.axis(\"off\")\n",
    "        plt.imshow(img.permute(1, 2, 0))\n",
    "    plt.tight_layout(pad=1.02)\n",
    "    plt.savefig(os.path.join(OUTPUT_PATH, 'original_samples.png'))\n",
    "    if _show:\n",
    "        plt.show()\n",
    "    plt.close()"
   ]
  },
  {
   "cell_type": "code",
   "execution_count": null,
   "id": "abc914bb-782f-46b1-9ee2-85796b5d51d9",
   "metadata": {},
   "outputs": [],
   "source": [
    "def plot_fake_images(\n",
    "        generator, n_images: int = 9, _show: bool = False) -> None:\n",
    "    cols, rows = 3, 3\n",
    "    fig, axs = plt.subplots(rows, cols, sharex='all')\n",
    "    axs = axs.flatten()\n",
    "\n",
    "    gen_z, label, _label_names = __generate_random_inputs(n_images)\n",
    "    gen_images = generator(gen_z, label)\n",
    "    images = gen_images.to(\"cpu\").clone().detach()\n",
    "    images = images.numpy().transpose(0, 2, 3, 1)\n",
    "\n",
    "    for i in range(9):\n",
    "        axs[i].set_title(_label_names[i])\n",
    "        axs[i].set_axis_off()\n",
    "        axs[i].imshow(images[i])\n",
    "    plt.tight_layout(pad=1.04)\n",
    "    plt.savefig(os.path.join(OUTPUT_PATH, 'synthetic_samples.png'))\n",
    "    if _show:\n",
    "        plt.show()\n",
    "    plt.close()"
   ]
  },
  {
   "cell_type": "code",
   "execution_count": null,
   "id": "3a6874aa-2b74-4fbd-b851-53f7bfbf7b42",
   "metadata": {},
   "outputs": [],
   "source": [
    "def __generate_random_inputs(n_images: int) \\\n",
    "        -> Tuple[torch.Tensor, torch.Tensor, list]:\n",
    "    gen_z = torch.randn(n_images, latent_vector, device=DEVICE)\n",
    "    label = torch.zeros(n_images, 1, device=DEVICE)\n",
    "    _label_names = []\n",
    "    for i in range(n_images):\n",
    "        x = np.random.randint(0, 1)\n",
    "        label[i][x] = 1\n",
    "        _label_names.append(\"MM\")\n",
    "    return gen_z, label, _label_names"
   ]
  }
 ],
 "metadata": {
  "kernelspec": {
   "display_name": "dermogan",
   "language": "python",
   "name": "dermogan"
  },
  "language_info": {
   "codemirror_mode": {
    "name": "ipython",
    "version": 3
   },
   "file_extension": ".py",
   "mimetype": "text/x-python",
   "name": "python",
   "nbconvert_exporter": "python",
   "pygments_lexer": "ipython3",
   "version": "3.9.18"
  }
 },
 "nbformat": 4,
 "nbformat_minor": 5
}
