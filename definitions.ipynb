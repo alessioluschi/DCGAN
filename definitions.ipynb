{
 "cells": [
  {
   "cell_type": "code",
   "execution_count": 1,
   "id": "2a4f4380-fc83-45e3-84c3-f85365c371d4",
   "metadata": {},
   "outputs": [],
   "source": [
    "from torch import device\n",
    "from torch.cuda import is_available, device_count"
   ]
  },
  {
   "cell_type": "code",
   "execution_count": null,
   "id": "eb1f83f2-a2df-453c-9bf3-8c854e074b1d",
   "metadata": {},
   "outputs": [],
   "source": [
    "DEVICE = device(\"cuda\" if is_available() else \"cpu\")"
   ]
  },
  {
   "cell_type": "code",
   "execution_count": null,
   "id": "95de6ca4-90ba-482d-9d19-286e8f4a29ce",
   "metadata": {},
   "outputs": [],
   "source": [
    "ARCH = \"SNGAN\" # Deep Convolutional GAN, Spectral Normalization DCGAN\n",
    "IMAGE_PATH = \"data/images\" # path to real images\n",
    "OUTPUT_PATH = \"output\" # path for saving output images and plots\n",
    "MODELS_PATH = \"models\" # path for saving model's snapshots\n",
    "SEED = 42\n",
    "IMAGE_SIZE = 256\n",
    "\n",
    "n_gpu = device_count()\n",
    "n_epochs = 150\n",
    "decay_epoch = 50 # epoch from which to start learning_rate decay\n",
    "learning_rate_G = 0.0002\n",
    "learning_rate_D = 0.00005\n",
    "beta_adam_1 = 0.5\n",
    "beta_adam_2 = 0.999\n",
    "batch_size = 16\n",
    "\n",
    "latent_vector = 256\n",
    "loader_workers = 2\n",
    "number_channels = 3 # color\n",
    "gen_feature_map = 64\n",
    "dis_feature_map = 64"
   ]
  }
 ],
 "metadata": {
  "kernelspec": {
   "display_name": "dermogan",
   "language": "python",
   "name": "dermogan"
  },
  "language_info": {
   "codemirror_mode": {
    "name": "ipython",
    "version": 3
   },
   "file_extension": ".py",
   "mimetype": "text/x-python",
   "name": "python",
   "nbconvert_exporter": "python",
   "pygments_lexer": "ipython3",
   "version": "3.9.18"
  }
 },
 "nbformat": 4,
 "nbformat_minor": 5
}
