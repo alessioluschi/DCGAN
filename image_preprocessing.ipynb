{
 "cells": [
  {
   "cell_type": "code",
   "execution_count": 2,
   "id": "c6137d45-0f1d-4aa7-94be-bb4c62984874",
   "metadata": {},
   "outputs": [],
   "source": [
    "import torch.utils.data\n",
    "import torchvision.datasets as dset\n",
    "import torchvision.transforms as transforms\n",
    "import os\n",
    "import pandas as pd\n",
    "from PIL import Image\n",
    "from ipynb.fs.full.definitions import IMAGE_PATH, IMAGE_SIZE"
   ]
  },
  {
   "cell_type": "code",
   "execution_count": null,
   "id": "59308518-4fd2-4eb3-8dd1-3662711dca42",
   "metadata": {},
   "outputs": [],
   "source": [
    "def scaleImages():\n",
    "    os.makedirs(os.path.join(IMAGE_PATH, 'scaled'), exist_ok=True)\n",
    "\n",
    "    width = 256 # initial width of the original images\n",
    "    height = 256 # initial height of the original images\n",
    "    min_size = min(width, height)\n",
    "    left = (width - min_size)/2\n",
    "    top = (height - min_size)/2\n",
    "    right = (width + min_size)/2\n",
    "    bottom = (height + min_size)/2\n",
    "    \n",
    "    for filename in os.listdir(IMAGE_PATH):\n",
    "        image_path = os.path.join(IMAGE_PATH, filename)\n",
    "        image = Image.open(image_path).convert('RGB')\n",
    "        image = image.crop((left, top, right, bottom))\n",
    "        image = image.resize((IMAGE_SIZE, IMAGE_SIZE))\n",
    "        image.save(os.path.join(IMAGE_PATH, 'scaled', filename))"
   ]
  },
  {
   "cell_type": "code",
   "execution_count": null,
   "id": "4774d7a6-6b78-4623-ae1a-f683f26da9ac",
   "metadata": {},
   "outputs": [],
   "source": [
    "def dataLoader(path, image_size, batch_size, workers):\n",
    "\n",
    "    dataset = dset.ImageFolder(root=path,\n",
    "                               transform=transforms.Compose([\n",
    "                                   transforms.Resize(image_size),\n",
    "                                   transforms.CenterCrop(image_size),\n",
    "                                   transforms.ToTensor(),\n",
    "                                   transforms.Normalize((0.5, 0.5, 0.5), (0.5, 0.5, 0.5)),\n",
    "                               ]))\n",
    "\n",
    "    dataloader = torch.utils.data.DataLoader(dataset, batch_size=batch_size, shuffle=True, num_workers=workers)\n",
    "\n",
    "    return dataloader"
   ]
  }
 ],
 "metadata": {
  "kernelspec": {
   "display_name": "dermogan",
   "language": "python",
   "name": "dermogan"
  },
  "language_info": {
   "codemirror_mode": {
    "name": "ipython",
    "version": 3
   },
   "file_extension": ".py",
   "mimetype": "text/x-python",
   "name": "python",
   "nbconvert_exporter": "python",
   "pygments_lexer": "ipython3",
   "version": "3.9.18"
  }
 },
 "nbformat": 4,
 "nbformat_minor": 5
}
